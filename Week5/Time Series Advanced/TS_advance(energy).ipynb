{
  "nbformat": 4,
  "nbformat_minor": 0,
  "metadata": {
    "colab": {
      "provenance": [],
      "gpuType": "T4"
    },
    "kernelspec": {
      "name": "python3",
      "display_name": "Python 3"
    },
    "language_info": {
      "name": "python"
    },
    "accelerator": "GPU"
  },
  "cells": [
    {
      "cell_type": "markdown",
      "source": [
        "## Q. 기상 실측 데이터를 토대로 태양광 발전량인 amount(2023-10-15) 값을 예측해보시오."
      ],
      "metadata": {
        "id": "H7M6mqavCdgs"
      }
    },
    {
      "cell_type": "code",
      "execution_count": null,
      "metadata": {
        "id": "UunFQBs9FaX0",
        "collapsed": true
      },
      "outputs": [],
      "source": [
        "import pandas as pd\n",
        "import numpy as np\n",
        "import torch\n",
        "import torch.nn as nn\n",
        "import torch.optim as optim\n",
        "from sklearn.preprocessing import MinMaxScaler\n",
        "import plotly.graph_objects as go\n",
        "from torch.utils.data import TensorDataset, DataLoader\n",
        "\n",
        "pd.set_option('display.max_column', 20)\n",
        "pd.set_option('display.max_row', 100)\n",
        "\n",
        "data = pd.read_csv('./energy_tobigs_question.csv')\n",
        "data['time'] = pd.to_datetime(data['time'])\n",
        "\n",
        "# 피처와 타겟 변수 설정\n",
        "features = ['cloud', 'temp', 'humidity', 'ground_press', 'wind_speed', 'wind_dir', 'rain', 'snow', 'dew_point', 'vis', 'uv_idx', 'azimuth', 'elevation']\n",
        "target = 'amount'\n",
        "\n",
        "# 데이터셋 분리 (2023-10-14까지 학습, 2023-10-15 하루 예측)\n",
        "train_data = data[data['time'] < '2023-10-15'].copy()\n",
        "test_data = data[(data['time'] >= '2023-10-15') & (data['time'] < '2023-10-16')].copy()\n",
        "\n",
        "# 학습 데이터에 NaN 값 제거\n",
        "train_data = train_data.dropna()\n",
        "\n",
        "# 데이터 스케일링\n",
        "scaler_x = MinMaxScaler()\n",
        "scaler_y = MinMaxScaler()\n",
        "\n",
        "train_data.loc[:, features] = scaler_x.fit_transform(train_data[features])\n",
        "train_data.loc[:, target] = scaler_y.fit_transform(train_data[[target]])\n",
        "\n",
        "test_data.loc[:, features] = scaler_x.transform(test_data[features])"
      ]
    },
    {
      "cell_type": "markdown",
      "source": [
        "### 시퀀스 데이터 생성 함수 작성"
      ],
      "metadata": {
        "id": "dne_kc6_Fn6Z"
      }
    },
    {
      "cell_type": "code",
      "source": [
        "# 텐서로 변환해서 텐서데이터셋을 생성하세요. (1~6 번에 내용을 채워보세요.)\n",
        "\n",
        "# 시퀀스 데이터 생성 함수\n",
        "# dataX: 시퀀스 데이터를 담은 리스트 (예: [[시퀀스1], [시퀀스2], ...])\n",
        "# dataY: 각 시퀀스에 대응하는 타겟 값 (예: 발전량)\n",
        "\n",
        "def build_dataset(time_series, seq_length):\n",
        "    dataX, dataY = [], []\n",
        "    for i in range(len(time_series) - seq_length):\n",
        "        dataX.append(time_series[i:i+seq_length, :-1])\n",
        "        dataY.append(time_series[i+seq_length, [-1]])\n",
        "    return np.array(dataX), np.array(dataY)\n",
        "\n",
        "# 하이퍼파라미터 설정\n",
        "seq_length = ____(1)\n",
        "batch_size = ____(2)\n",
        "\n",
        "# 학습 데이터 생성\n",
        "# trainX: 24시간의 피처 데이터\n",
        "# trainY: 그 다음 시간에 대한 발전량 값\n",
        "trainX, trainY = build_dataset(____(3)[features + [target]].values, seq_length)\n",
        "\n",
        "# 텐서로 변환\n",
        "trainX_tensor = torch.____(4)(trainX)\n",
        "trainY_tensor = torch.____(5)(trainY)\n",
        "\n",
        "# 텐서데이터셋 생성\n",
        "train_dataset = TensorDataset(trainX_tensor, trainY_tensor)\n",
        "train_loader = DataLoader(train_dataset, batch_size=____(6), shuffle=True)"
      ],
      "metadata": {
        "id": "GkdLvF-nFrxQ"
      },
      "execution_count": null,
      "outputs": []
    },
    {
      "cell_type": "markdown",
      "source": [
        "### 학습한 시계열 모델을 사용해서 예측을 해보세요 (RNN, LSTM, Transformer, Informer 중에서 선택적으로 활용)"
      ],
      "metadata": {
        "id": "LZtaJNcVFsLJ"
      }
    },
    {
      "cell_type": "code",
      "source": [
        "# 슬라이딩 윈도우 방식으로 2023-10-15의 24시간 발전량 예측해보기 (Direct Multi-step Forecast Strategy 혹은 Recursive Multi-step Forecast 등 이외의 방법론도 자유롭게 사용 가능)"
      ],
      "metadata": {
        "id": "pUEsSYdsGAaY"
      },
      "execution_count": null,
      "outputs": []
    },
    {
      "cell_type": "markdown",
      "source": [
        "### 2023-10-15 발전량 예측값을 predicted_amounts에 저장하고 시각화를 실행해주세요."
      ],
      "metadata": {
        "id": "GXnKhcF7Gd22"
      }
    },
    {
      "cell_type": "code",
      "source": [
        "# 시각화\n",
        "fig = go.Figure()\n",
        "\n",
        "# 실제 발전량 시각화\n",
        "fig.add_trace(go.Scatter(x=data['time'], y=data['amount'],\n",
        "                         mode='lines', name='Actual Amount'))\n",
        "\n",
        "# 예측된 발전량 시각화 (2023-10-15의 24시간 동안의 예측)\n",
        "fig.add_trace(go.Scatter(x=test_data['time'], y=predicted_amounts,\n",
        "                         mode='lines', name='Predicted Amount', line=dict(dash='dot', color='red')))\n",
        "\n",
        "# 레이아웃 설정\n",
        "fig.update_layout(title='2023-10-15 24시간 발전량 예측',\n",
        "                  xaxis_title='시간',\n",
        "                  yaxis_title='발전량 (kWh)')\n",
        "\n",
        "# 그래프 출력\n",
        "fig.show()"
      ],
      "metadata": {
        "id": "85a5LYliGbci"
      },
      "execution_count": null,
      "outputs": []
    },
    {
      "cell_type": "markdown",
      "source": [
        "### 정답을 적어주세요."
      ],
      "metadata": {
        "id": "i4qc4G_sIPYW"
      }
    },
    {
      "cell_type": "code",
      "source": [
        "# 예측된 24시간 발전량 출력\n",
        "print(f'2023-10-15 예측 발전량 (24시간): {predicted_amounts} kWh')"
      ],
      "metadata": {
        "id": "Oxu_nPKAIRiq"
      },
      "execution_count": null,
      "outputs": []
    },
    {
      "cell_type": "markdown",
      "source": [
        "---"
      ],
      "metadata": {
        "id": "ngKvGGwZIFLY"
      }
    },
    {
      "cell_type": "markdown",
      "source": [
        "### (필수) Informer모델은 transformer 모델의 어떤 부분을 개선하고자 했나요? (차이점을 중심으로 서술)"
      ],
      "metadata": {
        "id": "uG2WPZYKEOvn"
      }
    },
    {
      "cell_type": "code",
      "source": [],
      "metadata": {
        "id": "cGKQnbBeEfZo"
      },
      "execution_count": null,
      "outputs": []
    },
    {
      "cell_type": "markdown",
      "source": [
        "### (필수) 모델링 해석"
      ],
      "metadata": {
        "id": "bxrmj2bGGpKx"
      }
    },
    {
      "cell_type": "code",
      "source": [
        "# 모델을 선택했다면 왜 선택했는지 본인만의 근거를 정리해주세요.\n",
        "# 더 나아가 파라미터 선택의 기준이 있었다면 좋습니다."
      ],
      "metadata": {
        "id": "uXJxcNijGtVv"
      },
      "execution_count": null,
      "outputs": []
    },
    {
      "cell_type": "markdown",
      "source": [
        "### (선택) 데이터 해석"
      ],
      "metadata": {
        "id": "AWdkUtoyHwxC"
      }
    },
    {
      "cell_type": "code",
      "source": [
        "# 데이터셋을 보고 느낀 생각이나 본인만의 논리 전개 방식을 정리해주세요.\n",
        "# 전처리를 했다면 해당 전처리를 왜 했는지, 파생변수를 생성했다면 왜 만들었는지 등"
      ],
      "metadata": {
        "id": "dLm_wa71Hy1M"
      },
      "execution_count": null,
      "outputs": []
    }
  ]
}